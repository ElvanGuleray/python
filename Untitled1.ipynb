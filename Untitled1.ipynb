{
 "cells": [
  {
   "cell_type": "code",
   "execution_count": 1,
   "id": "fc0d6990",
   "metadata": {},
   "outputs": [
    {
     "name": "stdout",
     "output_type": "stream",
     "text": [
      "Merhaba\n",
      "Nasılsın\n",
      "İyi misin\n"
     ]
    }
   ],
   "source": [
    "print(\"Merhaba\\nNasılsın\\nİyi misin\")"
   ]
  },
  {
   "cell_type": "markdown",
   "id": "8f368f65",
   "metadata": {},
   "source": [
    "\\t karakteri bir tab boşluk bırakır."
   ]
  },
  {
   "cell_type": "code",
   "execution_count": 3,
   "id": "6d74016b",
   "metadata": {},
   "outputs": [
    {
     "name": "stdout",
     "output_type": "stream",
     "text": [
      "kahve\tçay\n"
     ]
    }
   ],
   "source": [
    "print(\"kahve\\tçay\")"
   ]
  },
  {
   "cell_type": "code",
   "execution_count": 4,
   "id": "ed56b0b0",
   "metadata": {
    "scrolled": true
   },
   "outputs": [
    {
     "name": "stdout",
     "output_type": "stream",
     "text": [
      "1\n",
      "3\n",
      "5\n"
     ]
    }
   ],
   "source": [
    "print(\"1\\n3\\n5\")"
   ]
  },
  {
   "cell_type": "markdown",
   "id": "c5260096",
   "metadata": {},
   "source": [
    "# type () fonksiyonu"
   ]
  },
  {
   "cell_type": "code",
   "execution_count": 5,
   "id": "66c01996",
   "metadata": {},
   "outputs": [
    {
     "ename": "IndentationError",
     "evalue": "unexpected indent (2317426967.py, line 2)",
     "output_type": "error",
     "traceback": [
      "\u001b[1;36m  File \u001b[1;32m\"C:\\Users\\BT-101\\AppData\\Local\\Temp\\ipykernel_9944\\2317426967.py\"\u001b[1;36m, line \u001b[1;32m2\u001b[0m\n\u001b[1;33m    a = 65\u001b[0m\n\u001b[1;37m    ^\u001b[0m\n\u001b[1;31mIndentationError\u001b[0m\u001b[1;31m:\u001b[0m unexpected indent\n"
     ]
    }
   ],
   "source": [
    " # Integer (Tamsayı) türü\n",
    "    a = 65\n",
    "    print(type(a))"
   ]
  },
  {
   "cell_type": "markdown",
   "id": "f54f085b",
   "metadata": {},
   "source": [
    "### sep parametresi"
   ]
  },
  {
   "cell_type": "code",
   "execution_count": 6,
   "id": "d97c4acd",
   "metadata": {},
   "outputs": [
    {
     "name": "stdout",
     "output_type": "stream",
     "text": [
      "3.4.5.6.7.8.9\n"
     ]
    }
   ],
   "source": [
    "# sep parametresi sayesinde değerlerin arasına nokta konuyor.\n",
    "print(3,4,5,6,7,8,9,sep=\".\")"
   ]
  },
  {
   "cell_type": "code",
   "execution_count": 7,
   "id": "2aa3172c",
   "metadata": {},
   "outputs": [
    {
     "name": "stdout",
     "output_type": "stream",
     "text": [
      "34.67.45.67\n"
     ]
    }
   ],
   "source": [
    "print(34,67,45,67,sep=\".\")"
   ]
  },
  {
   "cell_type": "code",
   "execution_count": 9,
   "id": "73b61ed5",
   "metadata": {},
   "outputs": [
    {
     "name": "stdout",
     "output_type": "stream",
     "text": [
      "06/04/2015\n"
     ]
    }
   ],
   "source": [
    "# değerlerin arasında \" / \"  sembolü yerleştirme.\n",
    "print(\"06\",\"04\",\"2015\",sep=\"/\")"
   ]
  },
  {
   "cell_type": "code",
   "execution_count": 22,
   "id": "fdbf24b9",
   "metadata": {},
   "outputs": [
    {
     "name": "stdout",
     "output_type": "stream",
     "text": [
      "06/04/2015\n",
      "06/04/2015\n",
      "06/04/2015\n",
      "06/04/2015\n"
     ]
    },
    {
     "data": {
      "text/plain": [
       "(None, None, None, None)"
      ]
     },
     "execution_count": 22,
     "metadata": {},
     "output_type": "execute_result"
    }
   ],
   "source": [
    "print(\"06\",\"04\",\"2015\",sep=\"/\"),print(\"06\",\"04\",\"2015\",sep=\"/\"),print(\"06\",\"04\",\"2015\",sep=\"/\"),print(\"06\",\"04\",\"2015\",sep=\"/\")"
   ]
  },
  {
   "cell_type": "code",
   "execution_count": 23,
   "id": "b707a8b5",
   "metadata": {},
   "outputs": [
    {
     "data": {
      "text/plain": [
       "43.0"
      ]
     },
     "execution_count": 23,
     "metadata": {},
     "output_type": "execute_result"
    }
   ],
   "source": [
    "# Çevireceğimiz sayıyıparantez içine alıyoruz.\n",
    "a = 43\n",
    "float(a)"
   ]
  },
  {
   "cell_type": "code",
   "execution_count": 24,
   "id": "b57a49e6",
   "metadata": {},
   "outputs": [
    {
     "data": {
      "text/plain": [
       "8.0"
      ]
     },
     "execution_count": 24,
     "metadata": {},
     "output_type": "execute_result"
    }
   ],
   "source": [
    "float(8)"
   ]
  },
  {
   "cell_type": "code",
   "execution_count": 26,
   "id": "5daa5338",
   "metadata": {},
   "outputs": [
    {
     "data": {
      "text/plain": [
       "34.0"
      ]
     },
     "execution_count": 26,
     "metadata": {},
     "output_type": "execute_result"
    }
   ],
   "source": [
    "float(34)"
   ]
  },
  {
   "cell_type": "code",
   "execution_count": 27,
   "id": "7818ec05",
   "metadata": {},
   "outputs": [
    {
     "ename": "TypeError",
     "evalue": "int() can't convert non-string with explicit base",
     "output_type": "error",
     "traceback": [
      "\u001b[1;31m---------------------------------------------------------------------------\u001b[0m",
      "\u001b[1;31mTypeError\u001b[0m                                 Traceback (most recent call last)",
      "\u001b[1;32m~\\AppData\\Local\\Temp\\ipykernel_9944\\2025688779.py\u001b[0m in \u001b[0;36m<module>\u001b[1;34m\u001b[0m\n\u001b[1;32m----> 1\u001b[1;33m \u001b[0mint\u001b[0m\u001b[1;33m(\u001b[0m\u001b[1;36m4\u001b[0m\u001b[1;33m,\u001b[0m\u001b[1;36m5\u001b[0m\u001b[1;33m)\u001b[0m\u001b[1;33m\u001b[0m\u001b[1;33m\u001b[0m\u001b[0m\n\u001b[0m",
      "\u001b[1;31mTypeError\u001b[0m: int() can't convert non-string with explicit base"
     ]
    }
   ],
   "source": []
  },
  {
   "cell_type": "code",
   "execution_count": 28,
   "id": "67152788",
   "metadata": {},
   "outputs": [
    {
     "data": {
      "text/plain": [
       "'2354478'"
      ]
     },
     "execution_count": 28,
     "metadata": {},
     "output_type": "execute_result"
    }
   ],
   "source": [
    "a = 2354478\n",
    "b = str(a)\n",
    "b"
   ]
  },
  {
   "cell_type": "markdown",
   "id": "d089af3c",
   "metadata": {},
   "source": [
    "float() ondalık yapar\n",
    "int() tamsayı yapar\n",
    "str() metin olur"
   ]
  },
  {
   "cell_type": "code",
   "execution_count": null,
   "id": "8f4e6b36",
   "metadata": {},
   "outputs": [],
   "source": []
  }
 ],
 "metadata": {
  "kernelspec": {
   "display_name": "Python 3 (ipykernel)",
   "language": "python",
   "name": "python3"
  },
  "language_info": {
   "codemirror_mode": {
    "name": "ipython",
    "version": 3
   },
   "file_extension": ".py",
   "mimetype": "text/x-python",
   "name": "python",
   "nbconvert_exporter": "python",
   "pygments_lexer": "ipython3",
   "version": "3.9.13"
  }
 },
 "nbformat": 4,
 "nbformat_minor": 5
}
