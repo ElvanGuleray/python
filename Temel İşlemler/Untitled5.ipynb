{
 "cells": [
  {
   "cell_type": "code",
   "execution_count": 1,
   "id": "13c63865",
   "metadata": {},
   "outputs": [],
   "source": [
    "# if - elif - else koşullu durumları"
   ]
  },
  {
   "cell_type": "code",
   "execution_count": null,
   "id": "896df850",
   "metadata": {},
   "outputs": [],
   "source": [
    "işlem = int(input(\"İşlem seçiniz:\"))            # 3 tane işlem yapma\n",
    "if işlem == 1:\n",
    "    print(\"1. İşlem seçildi.\")\n",
    "elif işlemi == 2:\n",
    "    print(\"2. İşlem seçildi.\")\n",
    "elif işlemi == 3:\n",
    "    print(\"3. İşlem seçildi.\")\n",
    "else:\n",
    "    print (\"Geçersiz işlem!\")"
   ]
  },
  {
   "cell_type": "code",
   "execution_count": null,
   "id": "712a4da7",
   "metadata": {},
   "outputs": [],
   "source": []
  }
 ],
 "metadata": {
  "kernelspec": {
   "display_name": "Python 3 (ipykernel)",
   "language": "python",
   "name": "python3"
  },
  "language_info": {
   "codemirror_mode": {
    "name": "ipython",
    "version": 3
   },
   "file_extension": ".py",
   "mimetype": "text/x-python",
   "name": "python",
   "nbconvert_exporter": "python",
   "pygments_lexer": "ipython3",
   "version": "3.9.13"
  }
 },
 "nbformat": 4,
 "nbformat_minor": 5
}
