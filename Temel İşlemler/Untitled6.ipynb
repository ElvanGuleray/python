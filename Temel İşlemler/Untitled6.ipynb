{
 "cells": [
  {
   "cell_type": "markdown",
   "id": "ff811924",
   "metadata": {},
   "source": [
    "### MANTIKSAL BAĞLAÇLAR"
   ]
  },
  {
   "cell_type": "markdown",
   "id": "f5ebb95b",
   "metadata": {},
   "source": [
    " ## and operatörü"
   ]
  },
  {
   "cell_type": "code",
   "execution_count": 1,
   "id": "a01e1fff",
   "metadata": {},
   "outputs": [
    {
     "data": {
      "text/plain": [
       "True"
      ]
     },
     "execution_count": 1,
     "metadata": {},
     "output_type": "execute_result"
    }
   ],
   "source": [
    "1 < 2 and \"Murat\" == \"Murat\""
   ]
  },
  {
   "cell_type": "code",
   "execution_count": 2,
   "id": "a6599822",
   "metadata": {},
   "outputs": [
    {
     "data": {
      "text/plain": [
       "False"
      ]
     },
     "execution_count": 2,
     "metadata": {},
     "output_type": "execute_result"
    }
   ],
   "source": [
    "2 > 3 and \"Murat\" == \"Murat\""
   ]
  },
  {
   "cell_type": "markdown",
   "id": "c56a5cff",
   "metadata": {},
   "source": [
    "## or operatörü"
   ]
  },
  {
   "cell_type": "code",
   "execution_count": 3,
   "id": "db5d41f5",
   "metadata": {},
   "outputs": [
    {
     "data": {
      "text/plain": [
       "True"
      ]
     },
     "execution_count": 3,
     "metadata": {},
     "output_type": "execute_result"
    }
   ],
   "source": [
    "1 < 2 or \"Murat\" == \"Murat\""
   ]
  },
  {
   "cell_type": "code",
   "execution_count": 4,
   "id": "cec78f65",
   "metadata": {},
   "outputs": [
    {
     "data": {
      "text/plain": [
       "False"
      ]
     },
     "execution_count": 4,
     "metadata": {},
     "output_type": "execute_result"
    }
   ],
   "source": [
    "2 > 3 or \"Murat\" != \"Murat\""
   ]
  },
  {
   "cell_type": "code",
   "execution_count": 6,
   "id": "3ce0eec2",
   "metadata": {},
   "outputs": [
    {
     "data": {
      "text/plain": [
       "True"
      ]
     },
     "execution_count": 6,
     "metadata": {},
     "output_type": "execute_result"
    }
   ],
   "source": [
    "2 > 3  or \"Murat\" != \"Murat\" or 3.14 < 4.17"
   ]
  },
  {
   "cell_type": "markdown",
   "id": "a444be09",
   "metadata": {},
   "source": [
    "## not operatörü"
   ]
  },
  {
   "cell_type": "code",
   "execution_count": 8,
   "id": "6046364b",
   "metadata": {},
   "outputs": [
    {
     "data": {
      "text/plain": [
       "False"
      ]
     },
     "execution_count": 8,
     "metadata": {},
     "output_type": "execute_result"
    }
   ],
   "source": [
    "not 2 == 2 "
   ]
  },
  {
   "cell_type": "code",
   "execution_count": 9,
   "id": "0b70c76a",
   "metadata": {},
   "outputs": [
    {
     "data": {
      "text/plain": [
       "True"
      ]
     },
     "execution_count": 9,
     "metadata": {},
     "output_type": "execute_result"
    }
   ],
   "source": [
    "not \"Python\" == \"Pyp\""
   ]
  },
  {
   "cell_type": "code",
   "execution_count": 10,
   "id": "64accecd",
   "metadata": {},
   "outputs": [
    {
     "data": {
      "text/plain": [
       "True"
      ]
     },
     "execution_count": 10,
     "metadata": {},
     "output_type": "execute_result"
    }
   ],
   "source": [
    "not 3 == 5"
   ]
  },
  {
   "cell_type": "code",
   "execution_count": 11,
   "id": "27b3289e",
   "metadata": {},
   "outputs": [
    {
     "data": {
      "text/plain": [
       "False"
      ]
     },
     "execution_count": 11,
     "metadata": {},
     "output_type": "execute_result"
    }
   ],
   "source": [
    "not 3 == 3"
   ]
  },
  {
   "cell_type": "markdown",
   "id": "274e0d2f",
   "metadata": {},
   "source": [
    "###  in operatörü"
   ]
  },
  {
   "cell_type": "code",
   "execution_count": 12,
   "id": "42e5e993",
   "metadata": {},
   "outputs": [
    {
     "data": {
      "text/plain": [
       "True"
      ]
     },
     "execution_count": 12,
     "metadata": {},
     "output_type": "execute_result"
    }
   ],
   "source": [
    "\"a\" in \"merhaba\""
   ]
  },
  {
   "cell_type": "code",
   "execution_count": 14,
   "id": "6787615e",
   "metadata": {},
   "outputs": [
    {
     "data": {
      "text/plain": [
       "True"
      ]
     },
     "execution_count": 14,
     "metadata": {},
     "output_type": "execute_result"
    }
   ],
   "source": [
    "\"mer\" in \"merhaba\""
   ]
  },
  {
   "cell_type": "code",
   "execution_count": 16,
   "id": "4e4f60da",
   "metadata": {},
   "outputs": [
    {
     "data": {
      "text/plain": [
       "True"
      ]
     },
     "execution_count": 16,
     "metadata": {},
     "output_type": "execute_result"
    }
   ],
   "source": [
    "\"ayna\" in \"kaynarca\""
   ]
  },
  {
   "cell_type": "markdown",
   "id": "f8d52326",
   "metadata": {},
   "source": [
    "###  for döngüsü"
   ]
  },
  {
   "cell_type": "markdown",
   "id": "14b7ab0e",
   "metadata": {},
   "source": [
    "önce liste oluştur.  if eleman  yaz koşul. "
   ]
  },
  {
   "cell_type": "code",
   "execution_count": 27,
   "id": "1ab8f335",
   "metadata": {},
   "outputs": [
    {
     "name": "stdout",
     "output_type": "stream",
     "text": [
      "2\n",
      "4\n",
      "6\n",
      "8\n"
     ]
    }
   ],
   "source": [
    "# çift elemanları ayırma \n",
    "liste = [1,2,3,4,5,6,7,8,9]\n",
    "\n",
    "for eleman in liste:\n",
    "    if eleman %2 == 0:\n",
    "     print(eleman)"
   ]
  },
  {
   "cell_type": "code",
   "execution_count": 30,
   "id": "bd17c8f7",
   "metadata": {},
   "outputs": [
    {
     "ename": "NameError",
     "evalue": "name 'a' is not defined",
     "output_type": "error",
     "traceback": [
      "\u001b[1;31m---------------------------------------------------------------------------\u001b[0m",
      "\u001b[1;31mNameError\u001b[0m                                 Traceback (most recent call last)",
      "\u001b[1;32m~\\AppData\\Local\\Temp\\ipykernel_12212\\2955728631.py\u001b[0m in \u001b[0;36m<module>\u001b[1;34m\u001b[0m\n\u001b[1;32m----> 1\u001b[1;33m \u001b[0mliste\u001b[0m \u001b[1;33m=\u001b[0m \u001b[1;33m[\u001b[0m\u001b[0ma\u001b[0m\u001b[1;33m,\u001b[0m\u001b[0mb\u001b[0m\u001b[1;33m,\u001b[0m\u001b[0mc\u001b[0m\u001b[1;33m,\u001b[0m\u001b[0md\u001b[0m\u001b[1;33m,\u001b[0m\u001b[0me\u001b[0m\u001b[1;33m,\u001b[0m\u001b[0mf\u001b[0m\u001b[1;33m,\u001b[0m\u001b[0mg\u001b[0m\u001b[1;33m,\u001b[0m\u001b[0mh\u001b[0m\u001b[1;33m,\u001b[0m\u001b[0mı\u001b[0m\u001b[1;33m,\u001b[0m\u001b[0mi\u001b[0m\u001b[1;33m,\u001b[0m\u001b[0mj\u001b[0m\u001b[1;33m]\u001b[0m\u001b[1;33m\u001b[0m\u001b[1;33m\u001b[0m\u001b[0m\n\u001b[0m",
      "\u001b[1;31mNameError\u001b[0m: name 'a' is not defined"
     ]
    }
   ],
   "source": [
    "liste = [a,b,c,d,e,f,g,h,ı,i,j]"
   ]
  },
  {
   "cell_type": "markdown",
   "id": "3ce9781b",
   "metadata": {},
   "source": [
    "### Dosya açma ve yazma"
   ]
  },
  {
   "cell_type": "markdown",
   "id": "3bb5d1ea",
   "metadata": {},
   "source": [
    "open (\"döngüler\",\"w\")"
   ]
  },
  {
   "cell_type": "markdown",
   "id": "ca87546b",
   "metadata": {},
   "source": [
    "file = open (\"C:/Users/user/Desktop/bilgiler.txt\",\"w\")"
   ]
  },
  {
   "cell_type": "markdown",
   "id": "a5a7fbe1",
   "metadata": {},
   "source": [
    "file.close() unutma"
   ]
  },
  {
   "cell_type": "markdown",
   "id": "922411c1",
   "metadata": {},
   "source": [
    "file = open(\"bilgiler.txt\",\"w\",encoding = \"utf-8\")"
   ]
  },
  {
   "cell_type": "code",
   "execution_count": null,
   "id": "5dc8506e",
   "metadata": {},
   "outputs": [],
   "source": [
    "file = open (\"bilgiler.txt\",\"r\", encoding=\"utf-8\")"
   ]
  },
  {
   "cell_type": "code",
   "execution_count": 38,
   "id": "bdef7228",
   "metadata": {},
   "outputs": [
    {
     "name": "stdout",
     "output_type": "stream",
     "text": [
      "asdfghjklşi,\n"
     ]
    }
   ],
   "source": [
    "file = open (\"D:\\Yeni Metin Belgesi.txt\",\"r\",encoding=\"utf-8\")\n",
    "\n",
    "for i in file:\n",
    "    print(i)\n",
    "file.close()    "
   ]
  },
  {
   "cell_type": "markdown",
   "id": "ed7b1f0f",
   "metadata": {},
   "source": [
    "file.readlines()"
   ]
  },
  {
   "cell_type": "code",
   "execution_count": null,
   "id": "b783fae8",
   "metadata": {},
   "outputs": [],
   "source": []
  }
 ],
 "metadata": {
  "kernelspec": {
   "display_name": "Python 3 (ipykernel)",
   "language": "python",
   "name": "python3"
  },
  "language_info": {
   "codemirror_mode": {
    "name": "ipython",
    "version": 3
   },
   "file_extension": ".py",
   "mimetype": "text/x-python",
   "name": "python",
   "nbconvert_exporter": "python",
   "pygments_lexer": "ipython3",
   "version": "3.9.13"
  }
 },
 "nbformat": 4,
 "nbformat_minor": 5
}
