{
 "cells": [
  {
   "cell_type": "markdown",
   "id": "3db84f61",
   "metadata": {},
   "source": [
    "# LİSTELER"
   ]
  },
  {
   "cell_type": "markdown",
   "id": "fb3684e1",
   "metadata": {},
   "source": [
    "Bu bölümde yapacağımız işlemler şunlardır:\n",
    "\n",
    "    1 - Liste oluşturma\n",
    "    2 - İndeksleme ve parçalama\n",
    "    3 - Temel liste metodları ve işlemleri\n",
    "    4 - İç içe listeler\n"
   ]
  },
  {
   "cell_type": "markdown",
   "id": "2ee0a874",
   "metadata": {},
   "source": [
    "## 1.Liste Oluşturma"
   ]
  },
  {
   "cell_type": "markdown",
   "id": "331ed7c9",
   "metadata": {},
   "source": [
    "Listeler bir [] köşeli parantez içine veriler ve değerler konarak oluşturulabilir."
   ]
  },
  {
   "cell_type": "code",
   "execution_count": 2,
   "id": "57f1b5f1",
   "metadata": {},
   "outputs": [
    {
     "data": {
      "text/plain": [
       "['elma', 'armut', 'çilek']"
      ]
     },
     "execution_count": 2,
     "metadata": {},
     "output_type": "execute_result"
    }
   ],
   "source": [
    "Meyveler = [\"elma\" , \"armut\" , \"çilek\"]\n",
    "Meyveler"
   ]
  },
  {
   "cell_type": "code",
   "execution_count": 3,
   "id": "3fdf8043",
   "metadata": {},
   "outputs": [
    {
     "data": {
      "text/plain": [
       "[3, 4, 5, 6, 'Elma', 3.14]"
      ]
     },
     "execution_count": 3,
     "metadata": {},
     "output_type": "execute_result"
    }
   ],
   "source": [
    "# Listeler değişkeni. Değişik veri tiplerinden değerleri saklayabiliyoruz.\n",
    "liste = [3,4,5,6,\"Elma\",3.14]\n",
    "liste"
   ]
  },
  {
   "cell_type": "code",
   "execution_count": 4,
   "id": "173c3f59",
   "metadata": {},
   "outputs": [
    {
     "data": {
      "text/plain": [
       "()"
      ]
     },
     "execution_count": 4,
     "metadata": {},
     "output_type": "execute_result"
    }
   ],
   "source": [
    "()"
   ]
  },
  {
   "cell_type": "code",
   "execution_count": 6,
   "id": "21e39e69",
   "metadata": {},
   "outputs": [
    {
     "data": {
      "text/plain": [
       "['hanimeli', 'aslanagzi']"
      ]
     },
     "execution_count": 6,
     "metadata": {},
     "output_type": "execute_result"
    }
   ],
   "source": [
    "Birlesikkelimeler = [\"hanimeli\",\"aslanagzi\"]\n",
    "Birlesikkelimeler"
   ]
  },
  {
   "cell_type": "code",
   "execution_count": 8,
   "id": "fdbfa302",
   "metadata": {},
   "outputs": [
    {
     "data": {
      "text/plain": [
       "10"
      ]
     },
     "execution_count": 8,
     "metadata": {},
     "output_type": "execute_result"
    }
   ],
   "source": [
    "# Len fonksiyonu listeler üzerinde de kullanılabilir.\n",
    "liste3=[3,4,5,6,7,8,9,0,0,0]\n",
    "len(liste3)"
   ]
  },
  {
   "cell_type": "code",
   "execution_count": 9,
   "id": "22d7e231",
   "metadata": {},
   "outputs": [
    {
     "data": {
      "text/plain": [
       "7"
      ]
     },
     "execution_count": 9,
     "metadata": {},
     "output_type": "execute_result"
    }
   ],
   "source": [
    "liste3[4]"
   ]
  },
  {
   "cell_type": "code",
   "execution_count": 12,
   "id": "135d0a1a",
   "metadata": {},
   "outputs": [
    {
     "data": {
      "text/plain": [
       "[3, 4, 5, 6]"
      ]
     },
     "execution_count": 12,
     "metadata": {},
     "output_type": "execute_result"
    }
   ],
   "source": [
    "# Baştan 4. indekse kadar.\n",
    "liste=[3,4,5,6,7,8,9,10]\n",
    "liste[:4]"
   ]
  },
  {
   "cell_type": "code",
   "execution_count": 13,
   "id": "d3d79a43",
   "metadata": {},
   "outputs": [
    {
     "data": {
      "text/plain": [
       "[8, 9, 10]"
      ]
     },
     "execution_count": 13,
     "metadata": {},
     "output_type": "execute_result"
    }
   ],
   "source": [
    "# 1. indeksten 5. indekse kadar.\n",
    "liste[5:]"
   ]
  },
  {
   "cell_type": "code",
   "execution_count": 14,
   "id": "3c4b2dfb",
   "metadata": {},
   "outputs": [
    {
     "data": {
      "text/plain": [
       "[3, 5, 7, 9]"
      ]
     },
     "execution_count": 14,
     "metadata": {},
     "output_type": "execute_result"
    }
   ],
   "source": [
    "liste[::2]"
   ]
  },
  {
   "cell_type": "code",
   "execution_count": 16,
   "id": "f3e824bd",
   "metadata": {
    "scrolled": true
   },
   "outputs": [
    {
     "ename": "TypeError",
     "evalue": "Value after * must be an iterable, not int",
     "output_type": "error",
     "traceback": [
      "\u001b[1;31m---------------------------------------------------------------------------\u001b[0m",
      "\u001b[1;31mTypeError\u001b[0m                                 Traceback (most recent call last)",
      "\u001b[1;32m~\\AppData\\Local\\Temp\\ipykernel_9564\\362319613.py\u001b[0m in \u001b[0;36m<module>\u001b[1;34m\u001b[0m\n\u001b[1;32m----> 1\u001b[1;33m \u001b[0mliste\u001b[0m\u001b[1;33m=\u001b[0m\u001b[1;33m[\u001b[0m\u001b[1;33m*\u001b[0m\u001b[1;36m3\u001b[0m\u001b[1;33m]\u001b[0m\u001b[1;33m\u001b[0m\u001b[1;33m\u001b[0m\u001b[0m\n\u001b[0m",
      "\u001b[1;31mTypeError\u001b[0m: Value after * must be an iterable, not int"
     ]
    }
   ],
   "source": []
  },
  {
   "cell_type": "code",
   "execution_count": null,
   "id": "796e5712",
   "metadata": {},
   "outputs": [],
   "source": [
    "a = input(\"Lütfen bir sayı giriniz:\") # Kullanıcıdan aldığımız değer a değişkeni print(\"Kullanıcının girdiği değer:\",a)"
   ]
  },
  {
   "cell_type": "code",
   "execution_count": 18,
   "id": "245a0718",
   "metadata": {},
   "outputs": [
    {
     "name": "stdout",
     "output_type": "stream",
     "text": [
      "Birinci sayı:12\n",
      "İkinci sayı:24\n",
      "Üçüncü sayı:54\n",
      "Toplamları: 90\n"
     ]
    }
   ],
   "source": [
    "a = int(input(\"Birinci sayı:\"))\n",
    "b = int(input(\"İkinci sayı:\"))\n",
    "c = int(input(\"Üçüncü sayı:\"))\n",
    "\n",
    "print(\"Toplamları:\",a+b+c)"
   ]
  },
  {
   "cell_type": "code",
   "execution_count": 19,
   "id": "000338d0",
   "metadata": {},
   "outputs": [
    {
     "name": "stdout",
     "output_type": "stream",
     "text": [
      "Birinci sayı:156\n",
      "İkinci sayı:345\n",
      "Üçüncü sayı:34\n",
      "Toplamları: 535\n"
     ]
    }
   ],
   "source": [
    "a = int(input(\"Birinci sayı:\"))\n",
    "b = int(input(\"İkinci sayı:\"))\n",
    "c = int(input(\"Üçüncü sayı:\"))\n",
    "\n",
    "print(\"Toplamları:\",a+b+c)"
   ]
  },
  {
   "cell_type": "code",
   "execution_count": 20,
   "id": "1db010b1",
   "metadata": {},
   "outputs": [
    {
     "name": "stdout",
     "output_type": "stream",
     "text": [
      "Birinci sayı:54\n",
      "İkinci sayı:67\n",
      "Üçüncü sayı:12\n",
      "Toplamları: 44\n"
     ]
    }
   ],
   "source": [
    "a = int(input(\"Birinci sayı:\"))\n",
    "b = int(input(\"İkinci sayı:\"))\n",
    "c = int(input(\"Üçüncü sayı:\"))\n",
    "\n",
    "print(\"Toplamları:\",(a+b+c)//3)"
   ]
  },
  {
   "cell_type": "code",
   "execution_count": null,
   "id": "c4b43616",
   "metadata": {},
   "outputs": [],
   "source": []
  }
 ],
 "metadata": {
  "kernelspec": {
   "display_name": "Python 3 (ipykernel)",
   "language": "python",
   "name": "python3"
  },
  "language_info": {
   "codemirror_mode": {
    "name": "ipython",
    "version": 3
   },
   "file_extension": ".py",
   "mimetype": "text/x-python",
   "name": "python",
   "nbconvert_exporter": "python",
   "pygments_lexer": "ipython3",
   "version": "3.9.13"
  }
 },
 "nbformat": 4,
 "nbformat_minor": 5
}
