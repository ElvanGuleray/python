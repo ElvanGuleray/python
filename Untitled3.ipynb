{
 "cells": [
  {
   "cell_type": "markdown",
   "id": "d53c7f60",
   "metadata": {},
   "source": [
    "# String İndeksleme ve Parçalama"
   ]
  },
  {
   "cell_type": "code",
   "execution_count": 2,
   "id": "aa9948ec",
   "metadata": {},
   "outputs": [
    {
     "data": {
      "text/plain": [
       "\" Elvan'ın arabası\""
      ]
     },
     "execution_count": 2,
     "metadata": {},
     "output_type": "execute_result"
    }
   ],
   "source": [
    "\" Elvan'ın arabası\""
   ]
  },
  {
   "cell_type": "code",
   "execution_count": 3,
   "id": "c64b554e",
   "metadata": {},
   "outputs": [
    {
     "data": {
      "text/plain": [
       "'i'"
      ]
     },
     "execution_count": 3,
     "metadata": {},
     "output_type": "execute_result"
    }
   ],
   "source": [
    "a = \"ali\"\n",
    "a[2]"
   ]
  },
  {
   "cell_type": "code",
   "execution_count": 6,
   "id": "6939800c",
   "metadata": {},
   "outputs": [
    {
     "data": {
      "text/plain": [
       "'b'"
      ]
     },
     "execution_count": 6,
     "metadata": {},
     "output_type": "execute_result"
    }
   ],
   "source": [
    "a = \"kazablanka\"\n",
    "a[4]"
   ]
  },
  {
   "cell_type": "code",
   "execution_count": 7,
   "id": "6a93f7a5",
   "metadata": {},
   "outputs": [
    {
     "data": {
      "text/plain": [
       "'blanka'"
      ]
     },
     "execution_count": 7,
     "metadata": {},
     "output_type": "execute_result"
    }
   ],
   "source": [
    "# 4. indeksten başla 10. indekse kadar al.\n",
    "a[4:10]"
   ]
  },
  {
   "cell_type": "code",
   "execution_count": 9,
   "id": "9a5d6813",
   "metadata": {},
   "outputs": [
    {
     "data": {
      "text/plain": [
       "'kazablanka'"
      ]
     },
     "execution_count": 9,
     "metadata": {},
     "output_type": "execute_result"
    }
   ],
   "source": [
    "# Başlangıç değeri belirtilmemişse en baştan başlayarak al.\n",
    "a[:10]"
   ]
  },
  {
   "cell_type": "code",
   "execution_count": null,
   "id": "0e61e22e",
   "metadata": {},
   "outputs": [],
   "source": []
  }
 ],
 "metadata": {
  "kernelspec": {
   "display_name": "Python 3 (ipykernel)",
   "language": "python",
   "name": "python3"
  },
  "language_info": {
   "codemirror_mode": {
    "name": "ipython",
    "version": 3
   },
   "file_extension": ".py",
   "mimetype": "text/x-python",
   "name": "python",
   "nbconvert_exporter": "python",
   "pygments_lexer": "ipython3",
   "version": "3.9.13"
  }
 },
 "nbformat": 4,
 "nbformat_minor": 5
}
