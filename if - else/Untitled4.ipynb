{
 "cells": [
  {
   "cell_type": "markdown",
   "id": "a8a62f34",
   "metadata": {},
   "source": [
    "# if koşulu"
   ]
  },
  {
   "cell_type": "code",
   "execution_count": 1,
   "id": "f89f7393",
   "metadata": {},
   "outputs": [
    {
     "name": "stdout",
     "output_type": "stream",
     "text": [
      "Yaşınızı giriniz:17\n",
      "Bu mekana giremezsiniz.\n"
     ]
    }
   ],
   "source": [
    "# 18 yaş kontrolü\n",
    "yaş = int(input(\"Yaşınızı giriniz:\"))\n",
    "\n",
    "if (yaş < 18):\n",
    "    #if bloğu - Girinti ile sağlanıyor.\n",
    "    print(\"Bu mekana giremezsiniz.\")"
   ]
  },
  {
   "cell_type": "code",
   "execution_count": 3,
   "id": "f7a4d8fc",
   "metadata": {},
   "outputs": [
    {
     "name": "stdout",
     "output_type": "stream",
     "text": [
      "Yaşınızı giriniz:25\n",
      "Yolun yarısına daha çok var.\n"
     ]
    }
   ],
   "source": [
    "yaş = int(input(\"Yaşınızı giriniz:\"))\n",
    "\n",
    "if (yaş < 35):\n",
    "    print(\"Yolun yarısına daha çok var.\")"
   ]
  },
  {
   "cell_type": "code",
   "execution_count": 4,
   "id": "6389bc63",
   "metadata": {},
   "outputs": [
    {
     "name": "stdout",
     "output_type": "stream",
     "text": [
      "Yaşınızı giriniz:12\n",
      "Tayfun Kayacıka yönlendirin.\n"
     ]
    }
   ],
   "source": [
    "yaş = int(input(\"Yaşınızı giriniz:\"))\n",
    "\n",
    "if (yaş < 15):\n",
    "    print(\"Tayfun Kayacıka yönlendirin.\")"
   ]
  },
  {
   "cell_type": "code",
   "execution_count": null,
   "id": "1785da84",
   "metadata": {},
   "outputs": [],
   "source": [
    "# else bloğu - if koşulu sağlanmazsa çalışacak.    else:"
   ]
  },
  {
   "cell_type": "code",
   "execution_count": 10,
   "id": "32565fd9",
   "metadata": {},
   "outputs": [
    {
     "name": "stdout",
     "output_type": "stream",
     "text": [
      "Yaşınızı giriniz:23\n",
      "Mekana hoşgeldiniz.\n"
     ]
    }
   ],
   "source": [
    "yaş = int(input(\"Yaşınızı giriniz:\"))\n",
    "if (yaş < 18):\n",
    "    print (\"Bu mekana giremezsiniz.\")\n",
    "else:\n",
    "    print (\"Mekana hoşgeldiniz.\")"
   ]
  },
  {
   "cell_type": "code",
   "execution_count": null,
   "id": "65afe45e",
   "metadata": {},
   "outputs": [],
   "source": []
  }
 ],
 "metadata": {
  "kernelspec": {
   "display_name": "Python 3 (ipykernel)",
   "language": "python",
   "name": "python3"
  },
  "language_info": {
   "codemirror_mode": {
    "name": "ipython",
    "version": 3
   },
   "file_extension": ".py",
   "mimetype": "text/x-python",
   "name": "python",
   "nbconvert_exporter": "python",
   "pygments_lexer": "ipython3",
   "version": "3.9.13"
  }
 },
 "nbformat": 4,
 "nbformat_minor": 5
}
