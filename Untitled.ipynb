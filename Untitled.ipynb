{
  "metadata": {
    "language_info": {
      "codemirror_mode": {
        "name": "python",
        "version": 3
      },
      "file_extension": ".py",
      "mimetype": "text/x-python",
      "name": "python",
      "nbconvert_exporter": "python",
      "pygments_lexer": "ipython3",
      "version": "3.8"
    },
    "kernelspec": {
      "name": "python",
      "display_name": "Python (Pyodide)",
      "language": "python"
    }
  },
  "nbformat_minor": 4,
  "nbformat": 4,
  "cells": [
    {
      "cell_type": "markdown",
      "source": "# MERHABA PYTHON",
      "metadata": {}
    },
    {
      "cell_type": "markdown",
      "source": "# Python ile Matematiksel İşlemler",
      "metadata": {}
    },
    {
      "cell_type": "markdown",
      "source": "# 1. Toplama İşlemi",
      "metadata": {}
    },
    {
      "cell_type": "markdown",
      "source": "Python matematiksel işlemleri çok hızlı bir şekilde yapabilen bir yazılım dilidir. Bu örnekte bir toplama işlemi yapacağız.",
      "metadata": {}
    },
    {
      "cell_type": "code",
      "source": "a= 16\nb= 12\na + b",
      "metadata": {
        "trusted": true
      },
      "execution_count": null,
      "outputs": []
    },
    {
      "cell_type": "markdown",
      "source": "# 2. Çıkarma İşlemi",
      "metadata": {}
    },
    {
      "cell_type": "code",
      "source": "a=27\nb=12\na-b",
      "metadata": {
        "trusted": true
      },
      "execution_count": null,
      "outputs": []
    },
    {
      "cell_type": "markdown",
      "source": "### 3. Tamsayı Bölmesi (//)",
      "metadata": {}
    },
    {
      "cell_type": "code",
      "source": "a=10\nb=2\na//b",
      "metadata": {
        "trusted": true
      },
      "execution_count": null,
      "outputs": []
    },
    {
      "cell_type": "markdown",
      "source": "# 4.Kalanı Bulma (%)",
      "metadata": {}
    },
    {
      "cell_type": "markdown",
      "source": "# 5. Üs Bulma (**)",
      "metadata": {}
    },
    {
      "cell_type": "code",
      "source": "2 ** 3",
      "metadata": {
        "trusted": true
      },
      "execution_count": null,
      "outputs": []
    },
    {
      "cell_type": "markdown",
      "source": "# 6. İşaret Değiştirme ( - )",
      "metadata": {}
    },
    {
      "cell_type": "markdown",
      "source": "### 7. İşlem Önceliği",
      "metadata": {}
    },
    {
      "cell_type": "code",
      "source": "8+4*3/2-18",
      "metadata": {
        "trusted": true
      },
      "execution_count": null,
      "outputs": []
    },
    {
      "cell_type": "code",
      "source": "#Kafamız karışıyorsa paranteze alalım.\n8 + ((4*3) / 2 ) - 18",
      "metadata": {
        "trusted": true
      },
      "execution_count": null,
      "outputs": []
    },
    {
      "cell_type": "code",
      "source": "",
      "metadata": {},
      "execution_count": null,
      "outputs": []
    }
  ]
}